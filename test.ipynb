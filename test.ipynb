{
 "cells": [
  {
   "cell_type": "code",
   "execution_count": 1,
   "metadata": {},
   "outputs": [
    {
     "name": "stderr",
     "output_type": "stream",
     "text": [
      "/home/codespace/.python/current/lib/python3.10/site-packages/yfinance/utils.py:775: FutureWarning: The 'unit' keyword in TimedeltaIndex construction is deprecated and will be removed in a future version. Use pd.to_timedelta instead.\n",
      "  df.index += _pd.TimedeltaIndex(dst_error_hours, 'h')\n",
      "[*********************100%%**********************]  1 of 1 completed"
     ]
    },
    {
     "name": "stdout",
     "output_type": "stream",
     "text": [
      "                   Open         High          Low        Close    Adj Close  \\\n",
      "Date                                                                          \n",
      "1984-01-03   997.500000  1001.400024   997.500000   997.500000   997.500000   \n",
      "1984-01-04   997.500000   999.500000   993.299988   998.599976   998.599976   \n",
      "1984-01-05  1007.099976  1015.799988  1007.099976  1015.799988  1015.799988   \n",
      "1984-01-06  1019.000000  1029.300049  1019.000000  1029.000000  1029.000000   \n",
      "1984-01-09  1030.599976  1035.400024  1030.599976  1034.599976  1034.599976   \n",
      "...                 ...          ...          ...          ...          ...   \n",
      "2024-02-19  7711.700195  7733.500000  7692.500000  7728.500000  7728.500000   \n",
      "2024-02-20  7728.500000  7748.700195  7706.000000  7719.200195  7719.200195   \n",
      "2024-02-21  7719.200195  7719.200195  7642.799805  7662.500000  7662.500000   \n",
      "2024-02-22  7662.500000  7702.899902  7651.700195  7684.500000  7684.500000   \n",
      "2024-02-23  7597.529785  7713.390137  7675.189941  7706.279785  7706.279785   \n",
      "\n",
      "                Volume  \n",
      "Date                    \n",
      "1984-01-03           0  \n",
      "1984-01-04           0  \n",
      "1984-01-05           0  \n",
      "1984-01-06           0  \n",
      "1984-01-09           0  \n",
      "...                ...  \n",
      "2024-02-19   619639600  \n",
      "2024-02-20   889469600  \n",
      "2024-02-21  1271802800  \n",
      "2024-02-22  1408725800  \n",
      "2024-02-23           0  \n",
      "\n",
      "[10141 rows x 6 columns]\n"
     ]
    },
    {
     "name": "stderr",
     "output_type": "stream",
     "text": [
      "\n"
     ]
    }
   ],
   "source": [
    "import yfinance as yf\n",
    "\n",
    "# Get FTSE data\n",
    "ftse_data = yf.download('^FTSE')\n",
    "\n",
    "# Print the data\n",
    "print(ftse_data)\n"
   ]
  },
  {
   "cell_type": "markdown",
   "metadata": {},
   "source": []
  }
 ],
 "metadata": {
  "kernelspec": {
   "display_name": "Python 3",
   "language": "python",
   "name": "python3"
  },
  "language_info": {
   "codemirror_mode": {
    "name": "ipython",
    "version": 3
   },
   "file_extension": ".py",
   "mimetype": "text/x-python",
   "name": "python",
   "nbconvert_exporter": "python",
   "pygments_lexer": "ipython3",
   "version": "3.10.13"
  }
 },
 "nbformat": 4,
 "nbformat_minor": 2
}
